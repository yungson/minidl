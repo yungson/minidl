{
 "cells": [
  {
   "cell_type": "code",
   "execution_count": 11,
   "id": "84a083d2-2f9d-469a-b85c-668d8d4c8899",
   "metadata": {},
   "outputs": [
    {
     "name": "stdout",
     "output_type": "stream",
     "text": [
      "The autoreload extension is already loaded. To reload it, use:\n",
      "  %reload_ext autoreload\n"
     ]
    }
   ],
   "source": [
    "%load_ext autoreload\n",
    "%autoreload 2\n",
    "import pickle\n",
    "import gzip\n",
    "import numpy as np\n",
    "import os\n",
    "import sys\n",
    "sys.path.insert(0,\"../../\")\n",
    "import minidl as mdl\n",
    "workdir = os.getcwd()"
   ]
  },
  {
   "cell_type": "markdown",
   "id": "25074898-4ff7-4385-9ef4-e221b5f1447a",
   "metadata": {},
   "source": [
    "## Preparing the data"
   ]
  },
  {
   "cell_type": "code",
   "execution_count": 12,
   "id": "217869e3-73e5-4696-aecf-6cbd21c70c0a",
   "metadata": {},
   "outputs": [],
   "source": [
    "def prepare_data(data_url, workdir):\n",
    "    mdl.utils.download(data_url, workdir+\"/mnist.pkl.gz\")\n",
    "    f = gzip.open(workdir+\"/mnist.pkl.gz\", 'rb')\n",
    "    training_data, validation_data, test_data = pickle.load(f, encoding=\"latin1\")\n",
    "    f.close()\n",
    "    training_img=np.int32(training_data[0]*256)\n",
    "    training_label=np.int32(training_data[1])\n",
    "    validation_img = np.int32(validation_data[0]*256)\n",
    "    validation_label=np.int32(validation_data[1])\n",
    "    test_img=np.int32(test_data[0]*256)\n",
    "    test_label=np.int32(test_data[1])\n",
    "\n",
    "    tr_img = np.concatenate((training_img,validation_img))\n",
    "    tr_label = np.concatenate((training_label,validation_label))\n",
    "\n",
    "    tr_label=np.reshape(tr_label,(60000,1))\n",
    "    test_label=np.reshape(test_label,(10000,1))\n",
    "\n",
    "    np.savetxt('train_label.csv',tr_label,delimiter=',', fmt='%d')\n",
    "    np.savetxt('test_label.csv',test_label,delimiter=',', fmt='%d')\n",
    "    np.savetxt('train_image.csv',tr_img,delimiter=',', fmt='%d')\n",
    "    np.savetxt('test_image.csv',test_img,delimiter=',', fmt='%d')\n",
    "    return"
   ]
  },
  {
   "cell_type": "code",
   "execution_count": 13,
   "id": "64e7076a-0da7-42b9-8577-ff56ad7c12e6",
   "metadata": {},
   "outputs": [
    {
     "name": "stdout",
     "output_type": "stream",
     "text": [
      "Downloading https://raw.githubusercontent.com/mnielsen/neural-networks-and-deep-learning/master/data/mnist.pkl.gz to /Users/yongshengli/Documents/codes/minidl/examples/mnist\n"
     ]
    }
   ],
   "source": [
    "data_url = \"https://raw.githubusercontent.com/mnielsen/neural-networks-and-deep-learning/master/data/mnist.pkl.gz\"\n",
    "prepare_data(data_url, workdir)"
   ]
  },
  {
   "cell_type": "markdown",
   "id": "884e44eb-1115-47dc-a6df-0e42bff0428d",
   "metadata": {
    "tags": []
   },
   "source": [
    "## Preprocessing the data"
   ]
  },
  {
   "cell_type": "code",
   "execution_count": 14,
   "id": "f588b851-b6ac-4fbc-982b-8687af32a423",
   "metadata": {},
   "outputs": [],
   "source": [
    "def load_data():\n",
    "    x_train = np.genfromtxt(\"train_image.csv\", delimiter=\",\")\n",
    "    y_train = np.genfromtxt(\"train_label.csv\", delimiter=\",\")\n",
    "    x_test = np.genfromtxt(\"test_image.csv\", delimiter=\",\")\n",
    "    y_test = np.genfromtxt(\"test_label.csv\", delimiter=\",\")\n",
    "    x_train /= 255.0\n",
    "    x_test /= 255.0\n",
    "    return x_train, y_train, x_test,  y_test"
   ]
  },
  {
   "cell_type": "markdown",
   "id": "0592676b-6869-4dbc-b032-9101b1b50885",
   "metadata": {},
   "source": [
    "## Generate data generator for batch training"
   ]
  },
  {
   "cell_type": "code",
   "execution_count": 15,
   "id": "fcd26c10-867c-4d39-8d80-0e2898a638f1",
   "metadata": {},
   "outputs": [],
   "source": [
    "x_train, y_train, x_test, y_test = load_data()\n",
    "train_gen = mdl.datagen.DataGenerator(x_train.T, mdl.utils.to_onehot(y_train, label_num=10).T)"
   ]
  },
  {
   "cell_type": "markdown",
   "id": "0195919c-a1c6-4285-bdf9-3431a60f26c1",
   "metadata": {},
   "source": [
    "## Construct and Train the model"
   ]
  },
  {
   "cell_type": "code",
   "execution_count": 16,
   "id": "7a3d9d3c-b790-4743-b193-39e563df482b",
   "metadata": {},
   "outputs": [],
   "source": [
    "# layers = [mdl.layer.Layer(28*28, 128, activation=mdl.math.sigmoid, activation_dt=mdl.math.sigmoid_dt, keep_prob=0.7),\n",
    "#           mdl.layer.Layer(128, 64, activation=mdl.math.sigmoid, activation_dt=mdl.math.sigmoid_dt, keep_prob=0.7),\n",
    "#           mdl.layer.Layer(64, 10, activation=mdl.math.softmax, activation_dt=mdl.math.softmax_dt)]\n",
    "# optimizer = mdl.optimizer.Adam()\n",
    "# network = mdl.network.NeutralNetwork(layers, optimizer)\n",
    "# model = mdl.model.Model(network)\n",
    "# model.train(train_gen, batch_size=64, max_epoch=5)"
   ]
  },
  {
   "cell_type": "code",
   "execution_count": 17,
   "id": "beeef062",
   "metadata": {},
   "outputs": [
    {
     "name": "stdout",
     "output_type": "stream",
     "text": [
      "Total steps:  9380\n",
      "[ Epoch 0002, Step 00001000 ] loss: 0.307173, val_accuracy: 0.930300\n",
      "[ Epoch 0003, Step 00002000 ] loss: 0.106331, val_accuracy: 0.950300\n",
      "[ Epoch 0004, Step 00003000 ] loss: 0.155403, val_accuracy: 0.958000\n",
      "[ Epoch 0005, Step 00004000 ] loss: 0.076921, val_accuracy: 0.966700\n",
      "[ Epoch 0006, Step 00005000 ] loss: 0.031734, val_accuracy: 0.969600\n",
      "[ Epoch 0007, Step 00006000 ] loss: 0.081209, val_accuracy: 0.971500\n",
      "[ Epoch 0008, Step 00007000 ] loss: 0.035783, val_accuracy: 0.974700\n",
      "[ Epoch 0009, Step 00008000 ] loss: 0.024468, val_accuracy: 0.974600\n",
      "[ Epoch 0010, Step 00009000 ] loss: 0.032426, val_accuracy: 0.978400\n"
     ]
    }
   ],
   "source": [
    "init = mdl.initializer.Initializer()\n",
    "net = mdl.network.Sequential(layers=[\n",
    "    mdl.layer.Dense(w = init.He(shape=(128, 28*28)), b=init.zeros(shape=(128, 1))),\n",
    "    mdl.layer.Sigmoid(),\n",
    "    mdl.layer.Dense(w = init.He(shape=(64, 128)), b=init.zeros(shape=(64, 1))),\n",
    "    mdl.layer.Sigmoid(),\n",
    "    mdl.layer.Dense(w = init.He(shape=(10, 64)), b=init.zeros(shape=(10, 1))),\n",
    "    mdl.layer.Softmax()\n",
    "])\n",
    "model = mdl.model.Model(net, lossfn=mdl.loss.CrossEntropyLoss(), optimizer=mdl.optimizer.Adam())\n",
    "model.train(train_gen, batch_size=64, max_epoch=10, print_n=1000, print_type=\"step\", x_val=x_test, y_val=y_test)"
   ]
  },
  {
   "cell_type": "markdown",
   "id": "61eaadf3-b935-4027-a626-c2957dd7559e",
   "metadata": {},
   "source": [
    "## Evaluate the model using the test data"
   ]
  },
  {
   "cell_type": "code",
   "execution_count": 18,
   "id": "05721294-2cd8-483d-a08c-e2af2ccefb7c",
   "metadata": {},
   "outputs": [],
   "source": [
    "train_acc, train_preds = model.predict(x_train, y_train)"
   ]
  },
  {
   "cell_type": "code",
   "execution_count": 19,
   "id": "5c1cbb4c-b5c2-482f-b914-1a9794a6a4d3",
   "metadata": {},
   "outputs": [],
   "source": [
    "test_acc, test_preds = model.predict(x_test, y_test)\n",
    "np.savetxt(\"test_predictions.csv\", test_preds, fmt='%i', delimiter=\",\")"
   ]
  },
  {
   "cell_type": "code",
   "execution_count": 20,
   "id": "5df229d1-2fa7-4346-b718-5a4c7f13ef05",
   "metadata": {},
   "outputs": [
    {
     "name": "stdout",
     "output_type": "stream",
     "text": [
      "train_accuracy: 0.9922333333333333, test_accuracy: 0.9763\n"
     ]
    }
   ],
   "source": [
    "print(f\"train_accuracy: {train_acc}, test_accuracy: {test_acc}\")"
   ]
  }
 ],
 "metadata": {
  "interpreter": {
   "hash": "f56cb53bba8cd1e7015b5039483294cb1b904ce548075b57e75b44c365a4e4d3"
  },
  "kernelspec": {
   "display_name": "Python 3.9.5 ('base')",
   "language": "python",
   "name": "python3"
  },
  "language_info": {
   "codemirror_mode": {
    "name": "ipython",
    "version": 3
   },
   "file_extension": ".py",
   "mimetype": "text/x-python",
   "name": "python",
   "nbconvert_exporter": "python",
   "pygments_lexer": "ipython3",
   "version": "3.9.5"
  }
 },
 "nbformat": 4,
 "nbformat_minor": 5
}
